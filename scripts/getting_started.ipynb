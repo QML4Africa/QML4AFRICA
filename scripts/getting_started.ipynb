{
 "cells": [
  {
   "cell_type": "markdown",
   "id": "2053ba47",
   "metadata": {},
   "source": [
    "# Welcome to the Quantum Computing 4 Africa Workshop \n",
    "\n",
    "We’re thrilled to have you join us for this exciting and hands-on introduction to quantum computing! Whether you're a student, researcher, developer, or industry profesional, this workshop is designed to give you practical exposure to one of the most revolutionary fields in technology today.\n",
    "\n",
    "## What will you learn\n",
    "\n",
    "The following labs will introduce you to the foundations of quantum computing using Python and the Qiskit framework. Throughout this workshop, you'll explore:\n",
    "\n",
    "- The basics of quantum gates and quantum circuits\n",
    "\n",
    "- Exploring the bloch sphere [IBM Quantum Composer](https://quantum.cloud.ibm.com/composer)\n",
    "\n",
    "- How to build and run circuits on simulators and real quantum hardware\n",
    "\n",
    "- An introduction to quantum machine learning using the sklearn dataset\n",
    "\n",
    "### Getting Started\n",
    "\n",
    "The main goal of this introductory lab is to show you how to get started with quantum computing using Python. Quantum computers stand as a promising technology that promises to disrupt how some calculations are done. From breaking encryptation with Shor's algorithm, to enable faster searches with Grover's to even design better batteries with quantum phase estimation. However, when we think about these nice applications, we have to think as well about how to design and execute these algorithms. For many of us this tool is Qiskit! A software for design and implementation of quantum circuits in simulators and real hardware. We will the Qiskit library, which is one of the most popular quantum computing libraries in Python.\n",
    "\n",
    "you will need Qiskit 2.0 and this notebook is going to provide you with the detailed instructions to get your machine ready to go!\n",
    "\n",
    "First you must check that the version of python you are using in your environment is python>=3.9.6, to make sure that it will be compatible with the latest Qiskit version we will use\n",
    "\n",
    "Furthermore, you can also find many useful resources on IBM's new page of quantum education [IBM Quantum Learning](https://learning.quantum.ibm.com/)."
   ]
  },
  {
   "cell_type": "code",
   "execution_count": null,
   "id": "9e29b36e",
   "metadata": {},
   "outputs": [],
   "source": [
    "import matplotlib.pyplot as plt\n",
    "\n",
    "from qiskit import QuantumCircuit, transpile, generate_preset_pass_manager\n",
    "from qiskit.visualization import plot_histogram\n",
    "from qiskit.quantum_info import SparsePauliOp\n",
    "\n",
    "from qiskit_ibm_runtime import (\n",
    "    QiskitRuntimeService,\n",
    "    SamplerV2 as Sampler,\n",
    "    EstimatorV2 as Estimator\n",
    ")\n",
    "\n",
    "from qiskit_aer import AerSimulator\n",
    "\n",
    "from qiskit.circuit.library import RealAmplitudes\n",
    "from qiskit import QuantumRegister\n",
    "\n",
    "from qiskit_ibm_runtime import Session, SamplerV2 as Sampler"
   ]
  },
  {
   "cell_type": "markdown",
   "id": "1c7620c2",
   "metadata": {},
   "source": [
    "## Sanity check <a id=\"sanity-check\"></a>\n",
    "\n",
    "Let's now create a very simple quantum circuit to check that everything is working as expected and we are not incurring into any unexpected error."
   ]
  },
  {
   "cell_type": "code",
   "execution_count": null,
   "id": "83742547",
   "metadata": {},
   "outputs": [],
   "source": [
    "# Create a new circuit with a single qubit\n",
    "qc = QuantumCircuit(2)\n",
    "# Add a H gate to qubit 0\n",
    "qc.h(0)\n",
    "# Add a CNOT gate to qubit 1\n",
    "qc.cx(0, 1)\n",
    "# Return a drawing of the circuit using MatPlotLib (\"mpl\").\n",
    "qc.draw(\"mpl\")"
   ]
  },
  {
   "cell_type": "markdown",
   "id": "fb17b471",
   "metadata": {},
   "source": [
    "The drawing you are seeing represents a quantum circuit that produces a Bell state:\n",
    "\n",
    "$$|Bell\\rangle=\\frac{|00\\rangle+|11\\rangle}{\\sqrt{2}}$$"
   ]
  },
  {
   "cell_type": "markdown",
   "id": "89f7778c",
   "metadata": {},
   "source": [
    "#  Exercise 1.1: Hello, Quantum! — Classical Bits vs Quantum Bits \n",
    "\n",
    "\n",
    "* **Classical bit**: Either `0` or `1`.\n",
    "* **Quantum bit (qubit)**: A unit vector in a 2‑D complex Hilbert space $|\\psi\\rangle = \\alpha |0\\rangle + \\beta |1\\rangle$ where $|\\alpha|^2 + |\\beta|^2 = 1$.\n",
    "* **Bloch sphere**: Geometric representation of a single qubit using spherical coordinates $(\\theta,\\;\\phi)$:\n",
    "\n",
    "$$|\\psi\\rangle = \\cos\\tfrac{\\theta}{2}|0\\rangle + e^{i\\phi}\\sin\\tfrac{\\theta}{2}|1\\rangle$$\n",
    "\n",
    "Changing $\\theta$ moves the state between north and south poles (superposition). Changing $\\phi$ rotates around the vertical axis (phase).\n",
    "\n",
    "Changing $\\theta$ moves the state between the poles (controls **superposition**). Changing $\\phi$ spins the state around the vertical axis (controls **phase**).\n",
    "\n"
   ]
  },
  {
   "cell_type": "markdown",
   "id": "43561155",
   "metadata": {},
   "source": [
    "#  Exercise 1.1: Hello, Quantum! — Generating Superposition\n",
    "\n",
    "Superposition is what lets a qubit hold both 0 and 1 at once—fueling quantum parallelism in algorithms from molecular simulation to optimization. Here, we’ll build a 1-qubit circuit, apply a Hadamard (H) gate to create an equal superposition, then measure to verify the 50/50 split."
   ]
  },
  {
   "cell_type": "code",
   "execution_count": null,
   "id": "978612f8",
   "metadata": {},
   "outputs": [
    {
     "name": "stdout",
     "output_type": "stream",
     "text": [
      "Measurement counts: {'0': 497, '1': 527}\n"
     ]
    }
   ],
   "source": [
    "# ┌────────────────────────────────────────────────────┐\n",
    "# │ Create & Measure a Superposition  \n",
    "# └────────────────────────────────────────────────────┘\n",
    "\n",
    "# 1. Imports\n",
    "from qiskit import QuantumCircuit, transpile\n",
    "from qiskit_aer import AerSimulator\n",
    "from qiskit.visualization import plot_histogram\n",
    "import matplotlib.pyplot as plt\n",
    "\n",
    "# 2. Build the circuit (1 qubit + measurement)\n",
    "qc = QuantumCircuit(1, 1)\n",
    "qc.h(0)\n",
    "qc.measure(0, 0)\n",
    "\n",
    "# 3. Initialize the Aer simulator\n",
    "sim = AerSimulator()\n",
    "\n",
    "# 4. Transpile for the simulator\n",
    "t_qc = transpile(qc, sim)\n",
    "\n",
    "# 5. Run the job and collect results\n",
    "job = sim.run(t_qc, shots=1024)\n",
    "result = job.result()\n",
    "counts = result.get_counts()\n",
    "\n",
    "# 6. Inspect results\n",
    "print(\"Measurement counts:\", counts)\n",
    "plot_histogram(counts)\n",
    "plt.show()\n"
   ]
  },
  {
   "cell_type": "markdown",
   "id": "1ad8e50c",
   "metadata": {},
   "source": [
    "## Interpretation\n",
    "\n",
    "You should see roughly equal counts for '0' and '1'—that’s your superposition collapsing 50/50 upon measurement.\n",
    "\n",
    "This lays the groundwork for quantum speedups: the H-gate distributes amplitude across states, enabling parallel exploration of possibilities.\n",
    "\n",
    "### Next Steps\n",
    "\n",
    "Vary shots: Change shots=1024 to a smaller or larger number—do the probabilities converge?\n",
    "\n",
    "Double H: What happens if you apply qc.h(0) twice before measuring? (Hint: H·H = Identity)"
   ]
  },
  {
   "cell_type": "markdown",
   "id": "50047091",
   "metadata": {},
   "source": [
    "# Exercise 1.2: Generate a three-qubit GHZ state using Qiskit patterns <a id=\"ghz\"></a>\n",
    "\n",
    "Now, we will follow this episode of [Coding with Qiskit](https://www.youtube.com/watch?v=93-zLTppFZw&list=PLOFEBzvs-VvrgHZt3exM_NNiNKtZlHvZi&index=4) to guide you through the process of generating a three-qubit GHZ state using [Qiskit patterns](https://quantum.cloud.ibm.com/docs/en/guides/intro-to-patterns). \n",
    "\n",
    "A Qiskit pattern is a general framework for breaking down domain-specific problems and contextualizing required capabilities in stages. This allows for the seamless composability of new capabilities developed by IBM Quantum® researchers (and others) and enables a future in which quantum computing tasks are performed by powerful heterogenous (CPU/GPU/QPU) computing infrastructure. \n",
    "\n",
    "The four steps of a Qiskit pattern are as follows:\n",
    "\n",
    "1. **Map** problem to quantum circuits and operators\n",
    "2. **Optimize** for target hardware\n",
    "3. **Execute** on target hardware\n",
    "4. **Post-process** results\n",
    "\n",
    "\n",
    "## Step 1. Map <a id=\"map\"></a>\n",
    "\n",
    "The Greenberger–Horne–Zeilinger (GHZ) state is the extension to three (or more) qubits to the maximally entangled state characteristic of the Bell state depicted above. That means that the GHZ state is:\n",
    "\n",
    "$$\n",
    "|GHZ\\rangle = \\frac{|000\\rangle+|111\\rangle}{\\sqrt{2}}.\n",
    "$$\n",
    "\n",
    "One of the interesting things of the GHZ state is that there are different and equivalent ways to build it using a quantum circuit. In Exercise 1 you are asked to do it in one of the most common ones."
   ]
  },
  {
   "cell_type": "markdown",
   "id": "530936e0",
   "metadata": {},
   "source": [
    "<a id=\"Exercise_1\"></a>\n",
    "<div class=\"alert alert-block alert-success\">\n",
    "    \n",
    "<b>Exercise 1: Design a GHZ state</b> \n",
    "\n",
    "In this exercise you are asked to design a GHZ state following the steps below:\n",
    "\n",
    "1. Applying a Hadamard gate to qubit 0, putting it into a superposition. \n",
    "2. Apply a CNOT gate between qubits 0 and 1.\n",
    "3. Apply a CNOT gate between qubits 1 and 2.\n",
    "\n",
    "</div>"
   ]
  },
  {
   "cell_type": "code",
   "execution_count": 2,
   "id": "b0b51809",
   "metadata": {},
   "outputs": [],
   "source": [
    "# Create a new circuit with three qubits\n",
    "qc = QuantumCircuit(3)\n",
    "\n",
    "### WRITE YOUR CODE BELOW HERE ###\n",
    "\n",
    "# Add a H gate to qubit 0\n",
    "\n",
    "# Add a CNOT gate to qubits 0 and 1\n",
    "\n",
    "# Add a CNOT gate to qubits 1 and 2\n",
    "\n",
    "### YOUR CODE FINISHES HERE    ###"
   ]
  },
  {
   "cell_type": "markdown",
   "id": "f1d95429",
   "metadata": {},
   "source": [
    "## Step 2. Optimize and Transpile <a id=\"optimize\"></a>\n",
    "\n",
    "Well done designing the circuit!\n",
    "\n",
    "Let us consider, for the GHZ state, a situation in which we are limited to interactions only between qubits 0 and 1 and qubits 0 and 2, but not between qubits 1 and 2. We can introduce these constraints to the transpiler using the `transpile` function and take a look to the resultant circuit."
   ]
  },
  {
   "cell_type": "code",
   "execution_count": 3,
   "id": "6c8d7d3d",
   "metadata": {},
   "outputs": [],
   "source": [
    "# from qiskit.visualization import plot_circuit_layout\n",
    " \n",
    "# plot_circuit_layout(qc_t_cm_lv0, backend, view=\"physical\")"
   ]
  },
  {
   "cell_type": "markdown",
   "id": "2b877581",
   "metadata": {},
   "source": [
    "## Step 3. Execute <a id=\"execute\"></a>\n",
    "\n",
    "The next step is exciting, we are going to run the quantum circuit using Qiskit Runtime! \n",
    "\n",
    "We will do that using the two [Qiskit Primitives](https://quantum.cloud.ibm.com/docs/en/guides/primitives):\n",
    "1. Sampler: it samples the output register from the execution of one or more quantum circuits. Its output is counts on per-shot measurements. \n",
    "2. Estimator: it computes the expectation value of one or more observables with respect to the states generated by the quantum circuit. Its output consist of the expectation values along with their standard errors.\n",
    "\n",
    "First, we execute our circuit using the Sampler, then save the results as the variable `results_sampler`. "
   ]
  }
 ],
 "metadata": {
  "kernelspec": {
   "display_name": "quantum_dlix",
   "language": "python",
   "name": "python3"
  },
  "language_info": {
   "codemirror_mode": {
    "name": "ipython",
    "version": 3
   },
   "file_extension": ".py",
   "mimetype": "text/x-python",
   "name": "python",
   "nbconvert_exporter": "python",
   "pygments_lexer": "ipython3",
   "version": "3.12.11"
  }
 },
 "nbformat": 4,
 "nbformat_minor": 5
}
